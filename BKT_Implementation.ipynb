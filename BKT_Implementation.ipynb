{
  "nbformat": 4,
  "nbformat_minor": 0,
  "metadata": {
    "colab": {
      "name": "BKT-Implementation.ipynb",
      "version": "0.3.2",
      "provenance": [],
      "toc_visible": true,
      "include_colab_link": true
    },
    "kernelspec": {
      "name": "python2",
      "display_name": "Python 2"
    }
  },
  "cells": [
    {
      "cell_type": "markdown",
      "metadata": {
        "id": "view-in-github",
        "colab_type": "text"
      },
      "source": [
        "<a href=\"https://colab.research.google.com/github/genterist/BKT-Jupyter/blob/master/BKT_Implementation.ipynb\" target=\"_parent\"><img src=\"https://colab.research.google.com/assets/colab-badge.svg\" alt=\"Open In Colab\"/></a>"
      ]
    },
    {
      "metadata": {
        "id": "ZLzrMSlqt2jN",
        "colab_type": "text"
      },
      "cell_type": "markdown",
      "source": [
        "![alt text](https://brand.ncsu.edu/img/logo/brick2x2.jpg =170x)\n",
        "\n",
        "## **DEPARTMENT OF COMPUTER SCIENCE - CSC591 FALL 2018 Edu Tech**\n",
        "\t\n",
        "###TAM N. NGUYEN"
      ]
    },
    {
      "metadata": {
        "id": "4g_uScqQuCfw",
        "colab_type": "code",
        "outputId": "bbc0fe4b-6a43-459f-ca6b-efc4263f76b9",
        "colab": {
          "base_uri": "https://localhost:8080/",
          "height": 34
        }
      },
      "cell_type": "code",
      "source": [
        "# PLEASE RUN THIS FIRST\n",
        "\n",
        "import sys\n",
        "version = sys.version_info[0], sys.version_info[1]\n",
        "print(\"Running on Python {}.{}\".format(version[0], version[1]))\n",
        "\n",
        "# Imports for all questions\n",
        "import math as m\n",
        "import numpy as np\n",
        "import pandas as pd\n",
        "from google.colab import files\n",
        "#import matplotlib.pyplot as plt\n",
        "#import altair as alt\n",
        "#from sklearn import preprocessing, svm\n",
        "#from sklearn.linear_model import LinearRegression\n",
        "#from sklearn.model_selection import LeaveOneOut\n",
        "#from sklearn import metrics\n",
        "#from math import sqrt\n",
        "#from keras.models import Sequential\n",
        "#from keras.layers import Dense\n",
        "#from itertools import combinations\n",
        "#\n",
        "# ATTENTION\n",
        "#\n",
        "# Please read README file to run codes properly in Jupyter Notebook\n",
        "#\n",
        "# Running on Google Colab notebook will require manual upload of CSV files to the \"Files\" section\n",
        "# in the left column of the interface. \n"
      ],
      "execution_count": 1,
      "outputs": [
        {
          "output_type": "stream",
          "text": [
            "Running on Python 2.7\n"
          ],
          "name": "stdout"
        }
      ]
    },
    {
      "metadata": {
        "id": "IP5jX2cJvNUU",
        "colab_type": "text"
      },
      "cell_type": "markdown",
      "source": [
        "### DATA IMPORT and PRE-PROCESSING"
      ]
    },
    {
      "metadata": {
        "id": "z8XFhxqwu1Q4",
        "colab_type": "code",
        "outputId": "1da6321c-c428-4103-e7c8-bef84a01c7af",
        "colab": {
          "base_uri": "https://localhost:8080/",
          "height": 34
        }
      },
      "cell_type": "code",
      "source": [
        "# for Google Colab, make sure you upload data at the beginning of EACH new session\n",
        "# make sure you run code block 1 of this jupyter notebook (for imports)\n",
        "#\n",
        "raw_data = pd.read_csv('./data.csv', sep=',')\n",
        "raw_data.shape"
      ],
      "execution_count": 3,
      "outputs": [
        {
          "output_type": "execute_result",
          "data": {
            "text/plain": [
              "(36627, 10)"
            ]
          },
          "metadata": {
            "tags": []
          },
          "execution_count": 3
        }
      ]
    },
    {
      "metadata": {
        "id": "gx7-JTw1wQWt",
        "colab_type": "code",
        "outputId": "3b7d489a-180a-45ea-ce47-0f7332b43469",
        "colab": {
          "base_uri": "https://localhost:8080/",
          "height": 142
        }
      },
      "cell_type": "code",
      "source": [
        "# original structure\n",
        "raw_data.head(3)"
      ],
      "execution_count": 0,
      "outputs": [
        {
          "output_type": "execute_result",
          "data": {
            "text/html": [
              "<div>\n",
              "<style scoped>\n",
              "    .dataframe tbody tr th:only-of-type {\n",
              "        vertical-align: middle;\n",
              "    }\n",
              "\n",
              "    .dataframe tbody tr th {\n",
              "        vertical-align: top;\n",
              "    }\n",
              "\n",
              "    .dataframe thead th {\n",
              "        text-align: right;\n",
              "    }\n",
              "</style>\n",
              "<table border=\"1\" class=\"dataframe\">\n",
              "  <thead>\n",
              "    <tr style=\"text-align: right;\">\n",
              "      <th></th>\n",
              "      <th>Student</th>\n",
              "      <th>StepID</th>\n",
              "      <th>Correct</th>\n",
              "      <th>KC_1</th>\n",
              "      <th>KC_27</th>\n",
              "      <th>KC_24</th>\n",
              "      <th>KC_14</th>\n",
              "      <th>KC_22</th>\n",
              "      <th>KC_20</th>\n",
              "      <th>KC_21</th>\n",
              "    </tr>\n",
              "  </thead>\n",
              "  <tbody>\n",
              "    <tr>\n",
              "      <th>0</th>\n",
              "      <td>stu1</td>\n",
              "      <td>478</td>\n",
              "      <td>0</td>\n",
              "      <td>0</td>\n",
              "      <td>1</td>\n",
              "      <td>0</td>\n",
              "      <td>0</td>\n",
              "      <td>0</td>\n",
              "      <td>0</td>\n",
              "      <td>0</td>\n",
              "    </tr>\n",
              "    <tr>\n",
              "      <th>1</th>\n",
              "      <td>stu1</td>\n",
              "      <td>479</td>\n",
              "      <td>1</td>\n",
              "      <td>0</td>\n",
              "      <td>1</td>\n",
              "      <td>0</td>\n",
              "      <td>0</td>\n",
              "      <td>0</td>\n",
              "      <td>0</td>\n",
              "      <td>0</td>\n",
              "    </tr>\n",
              "    <tr>\n",
              "      <th>2</th>\n",
              "      <td>stu1</td>\n",
              "      <td>484</td>\n",
              "      <td>1</td>\n",
              "      <td>0</td>\n",
              "      <td>1</td>\n",
              "      <td>0</td>\n",
              "      <td>0</td>\n",
              "      <td>0</td>\n",
              "      <td>0</td>\n",
              "      <td>0</td>\n",
              "    </tr>\n",
              "  </tbody>\n",
              "</table>\n",
              "</div>"
            ],
            "text/plain": [
              "  Student  StepID  Correct  KC_1  KC_27  KC_24  KC_14  KC_22  KC_20  KC_21\n",
              "0    stu1     478        0     0      1      0      0      0      0      0\n",
              "1    stu1     479        1     0      1      0      0      0      0      0\n",
              "2    stu1     484        1     0      1      0      0      0      0      0"
            ]
          },
          "metadata": {
            "tags": []
          },
          "execution_count": 3
        }
      ]
    },
    {
      "metadata": {
        "id": "t3uyESS206UM",
        "colab_type": "code",
        "outputId": "d6b75335-0d59-4f15-854b-f2b20a1a98e2",
        "colab": {
          "base_uri": "https://localhost:8080/",
          "height": 298
        }
      },
      "cell_type": "code",
      "source": [
        "# turning it to a multi-index DF\n",
        "mod1_data = raw_data.set_index(['Student','StepID'])\n",
        "\n",
        "#make sure everything is in order\n",
        "mod1_data.sortlevel(inplace=True)\n",
        "\n",
        "# insert collumns for the probabilities\n",
        "# hard-coding of columns is fine here since this is a simulated scenario\n",
        "# real life situations may involve json or\n",
        "# regular db which is much more organized\n",
        "\n",
        "mod1_data.insert(2,'P(L)1',0.0)\n",
        "mod1_data.insert(3,'P(C)1',0.0)\n",
        "\n",
        "mod1_data.insert(5,'P(L)27',0.0)\n",
        "mod1_data.insert(6,'P(C)27',0.0)\n",
        "\n",
        "mod1_data.insert(8,'P(L)24',0.0)\n",
        "mod1_data.insert(9,'P(C)24',0.0)\n",
        "\n",
        "mod1_data.insert(11,'P(L)14',0.0)\n",
        "mod1_data.insert(12,'P(C)14',0.0)\n",
        "\n",
        "mod1_data.insert(14,'P(L)22',0.0)\n",
        "mod1_data.insert(15,'P(C)22',0.0)\n",
        "\n",
        "mod1_data.insert(17,'P(L)20',0.0)\n",
        "mod1_data.insert(18,'P(C)20',0.0)\n",
        "\n",
        "mod1_data.insert(20,'P(L)21',0.0)\n",
        "mod1_data.insert(21,'P(C)21',0.0)\n",
        "\n",
        "# only P(C) matter since it has other Probabilities embedded in it\n",
        "\n",
        "mod1_data.head(5)"
      ],
      "execution_count": 4,
      "outputs": [
        {
          "output_type": "stream",
          "text": [
            "/usr/local/lib/python2.7/dist-packages/ipykernel_launcher.py:4: FutureWarning: sortlevel is deprecated, use sort_index(level= ...)\n",
            "  after removing the cwd from sys.path.\n"
          ],
          "name": "stderr"
        },
        {
          "output_type": "execute_result",
          "data": {
            "text/html": [
              "<div>\n",
              "<style scoped>\n",
              "    .dataframe tbody tr th:only-of-type {\n",
              "        vertical-align: middle;\n",
              "    }\n",
              "\n",
              "    .dataframe tbody tr th {\n",
              "        vertical-align: top;\n",
              "    }\n",
              "\n",
              "    .dataframe thead th {\n",
              "        text-align: right;\n",
              "    }\n",
              "</style>\n",
              "<table border=\"1\" class=\"dataframe\">\n",
              "  <thead>\n",
              "    <tr style=\"text-align: right;\">\n",
              "      <th></th>\n",
              "      <th></th>\n",
              "      <th>Correct</th>\n",
              "      <th>KC_1</th>\n",
              "      <th>P(L)1</th>\n",
              "      <th>P(C)1</th>\n",
              "      <th>KC_27</th>\n",
              "      <th>P(L)27</th>\n",
              "      <th>P(C)27</th>\n",
              "      <th>KC_24</th>\n",
              "      <th>P(L)24</th>\n",
              "      <th>P(C)24</th>\n",
              "      <th>...</th>\n",
              "      <th>P(C)14</th>\n",
              "      <th>KC_22</th>\n",
              "      <th>P(L)22</th>\n",
              "      <th>P(C)22</th>\n",
              "      <th>KC_20</th>\n",
              "      <th>P(L)20</th>\n",
              "      <th>P(C)20</th>\n",
              "      <th>KC_21</th>\n",
              "      <th>P(L)21</th>\n",
              "      <th>P(C)21</th>\n",
              "    </tr>\n",
              "    <tr>\n",
              "      <th>Student</th>\n",
              "      <th>StepID</th>\n",
              "      <th></th>\n",
              "      <th></th>\n",
              "      <th></th>\n",
              "      <th></th>\n",
              "      <th></th>\n",
              "      <th></th>\n",
              "      <th></th>\n",
              "      <th></th>\n",
              "      <th></th>\n",
              "      <th></th>\n",
              "      <th></th>\n",
              "      <th></th>\n",
              "      <th></th>\n",
              "      <th></th>\n",
              "      <th></th>\n",
              "      <th></th>\n",
              "      <th></th>\n",
              "      <th></th>\n",
              "      <th></th>\n",
              "      <th></th>\n",
              "      <th></th>\n",
              "    </tr>\n",
              "  </thead>\n",
              "  <tbody>\n",
              "    <tr>\n",
              "      <th rowspan=\"5\" valign=\"top\">stu1</th>\n",
              "      <th>478</th>\n",
              "      <td>0</td>\n",
              "      <td>0</td>\n",
              "      <td>0.0</td>\n",
              "      <td>0.0</td>\n",
              "      <td>1</td>\n",
              "      <td>0.0</td>\n",
              "      <td>0.0</td>\n",
              "      <td>0</td>\n",
              "      <td>0.0</td>\n",
              "      <td>0.0</td>\n",
              "      <td>...</td>\n",
              "      <td>0.0</td>\n",
              "      <td>0</td>\n",
              "      <td>0.0</td>\n",
              "      <td>0.0</td>\n",
              "      <td>0</td>\n",
              "      <td>0.0</td>\n",
              "      <td>0.0</td>\n",
              "      <td>0</td>\n",
              "      <td>0.0</td>\n",
              "      <td>0.0</td>\n",
              "    </tr>\n",
              "    <tr>\n",
              "      <th>479</th>\n",
              "      <td>1</td>\n",
              "      <td>0</td>\n",
              "      <td>0.0</td>\n",
              "      <td>0.0</td>\n",
              "      <td>1</td>\n",
              "      <td>0.0</td>\n",
              "      <td>0.0</td>\n",
              "      <td>0</td>\n",
              "      <td>0.0</td>\n",
              "      <td>0.0</td>\n",
              "      <td>...</td>\n",
              "      <td>0.0</td>\n",
              "      <td>0</td>\n",
              "      <td>0.0</td>\n",
              "      <td>0.0</td>\n",
              "      <td>0</td>\n",
              "      <td>0.0</td>\n",
              "      <td>0.0</td>\n",
              "      <td>0</td>\n",
              "      <td>0.0</td>\n",
              "      <td>0.0</td>\n",
              "    </tr>\n",
              "    <tr>\n",
              "      <th>484</th>\n",
              "      <td>1</td>\n",
              "      <td>0</td>\n",
              "      <td>0.0</td>\n",
              "      <td>0.0</td>\n",
              "      <td>1</td>\n",
              "      <td>0.0</td>\n",
              "      <td>0.0</td>\n",
              "      <td>0</td>\n",
              "      <td>0.0</td>\n",
              "      <td>0.0</td>\n",
              "      <td>...</td>\n",
              "      <td>0.0</td>\n",
              "      <td>0</td>\n",
              "      <td>0.0</td>\n",
              "      <td>0.0</td>\n",
              "      <td>0</td>\n",
              "      <td>0.0</td>\n",
              "      <td>0.0</td>\n",
              "      <td>0</td>\n",
              "      <td>0.0</td>\n",
              "      <td>0.0</td>\n",
              "    </tr>\n",
              "    <tr>\n",
              "      <th>485</th>\n",
              "      <td>1</td>\n",
              "      <td>0</td>\n",
              "      <td>0.0</td>\n",
              "      <td>0.0</td>\n",
              "      <td>1</td>\n",
              "      <td>0.0</td>\n",
              "      <td>0.0</td>\n",
              "      <td>0</td>\n",
              "      <td>0.0</td>\n",
              "      <td>0.0</td>\n",
              "      <td>...</td>\n",
              "      <td>0.0</td>\n",
              "      <td>0</td>\n",
              "      <td>0.0</td>\n",
              "      <td>0.0</td>\n",
              "      <td>0</td>\n",
              "      <td>0.0</td>\n",
              "      <td>0.0</td>\n",
              "      <td>0</td>\n",
              "      <td>0.0</td>\n",
              "      <td>0.0</td>\n",
              "    </tr>\n",
              "    <tr>\n",
              "      <th>497</th>\n",
              "      <td>1</td>\n",
              "      <td>0</td>\n",
              "      <td>0.0</td>\n",
              "      <td>0.0</td>\n",
              "      <td>0</td>\n",
              "      <td>0.0</td>\n",
              "      <td>0.0</td>\n",
              "      <td>0</td>\n",
              "      <td>0.0</td>\n",
              "      <td>0.0</td>\n",
              "      <td>...</td>\n",
              "      <td>0.0</td>\n",
              "      <td>1</td>\n",
              "      <td>0.0</td>\n",
              "      <td>0.0</td>\n",
              "      <td>0</td>\n",
              "      <td>0.0</td>\n",
              "      <td>0.0</td>\n",
              "      <td>0</td>\n",
              "      <td>0.0</td>\n",
              "      <td>0.0</td>\n",
              "    </tr>\n",
              "  </tbody>\n",
              "</table>\n",
              "<p>5 rows × 22 columns</p>\n",
              "</div>"
            ],
            "text/plain": [
              "                Correct  KC_1  P(L)1  P(C)1  KC_27  P(L)27  P(C)27  KC_24  \\\n",
              "Student StepID                                                              \n",
              "stu1    478           0     0    0.0    0.0      1     0.0     0.0      0   \n",
              "        479           1     0    0.0    0.0      1     0.0     0.0      0   \n",
              "        484           1     0    0.0    0.0      1     0.0     0.0      0   \n",
              "        485           1     0    0.0    0.0      1     0.0     0.0      0   \n",
              "        497           1     0    0.0    0.0      0     0.0     0.0      0   \n",
              "\n",
              "                P(L)24  P(C)24   ...    P(C)14  KC_22  P(L)22  P(C)22  KC_20  \\\n",
              "Student StepID                   ...                                           \n",
              "stu1    478        0.0     0.0   ...       0.0      0     0.0     0.0      0   \n",
              "        479        0.0     0.0   ...       0.0      0     0.0     0.0      0   \n",
              "        484        0.0     0.0   ...       0.0      0     0.0     0.0      0   \n",
              "        485        0.0     0.0   ...       0.0      0     0.0     0.0      0   \n",
              "        497        0.0     0.0   ...       0.0      1     0.0     0.0      0   \n",
              "\n",
              "                P(L)20  P(C)20  KC_21  P(L)21  P(C)21  \n",
              "Student StepID                                         \n",
              "stu1    478        0.0     0.0      0     0.0     0.0  \n",
              "        479        0.0     0.0      0     0.0     0.0  \n",
              "        484        0.0     0.0      0     0.0     0.0  \n",
              "        485        0.0     0.0      0     0.0     0.0  \n",
              "        497        0.0     0.0      0     0.0     0.0  \n",
              "\n",
              "[5 rows x 22 columns]"
            ]
          },
          "metadata": {
            "tags": []
          },
          "execution_count": 4
        }
      ]
    },
    {
      "metadata": {
        "id": "phqk-OQ_clpm",
        "colab_type": "text"
      },
      "cell_type": "markdown",
      "source": [
        "### PROBABILITY FUNCTIONS\n",
        "\n",
        "![alt text](https://i.imgur.com/DbDMC5d.png)\n",
        "\n",
        "Credit: wikipedia\n",
        "\n",
        "u : student \\\\\n",
        "k : skill \\\\\n",
        "function d: skill mastery \\\\\n",
        "function e: correct application of skill in the future\n",
        "\n",
        "We assume these following parameters are fixed:\n",
        "\n",
        "P(Lo) = 0.5\n",
        "\n",
        "P(T) = 0.1\n",
        "\n",
        "P(S) = 0.1\n",
        "\n",
        "P(G) = 0.1\n",
        "\n",
        "per\n",
        "\n",
        "Hawkins W.J., Heffernan N.T., Baker R.S.J.D. (2014) **Learning Bayesian Knowledge Tracing Parameters with a Knowledge Heuristic and Empirical Probabilities.** In: Trausan-Matu S., Boyer K.E., Crosby M., Panourgia K. (eds) Intelligent Tutoring Systems. ITS 2014. Lecture Notes in Computer Science, vol 8474. Springer, Cham\n",
        "\n",
        "Previous efforts regarding the science behind the setting of these parameters can be found in papers such as:\n",
        "\n",
        "Yudelson M.V., Koedinger K.R., Gordon G.J. (2013) I**ndividualized Bayesian Knowledge Tracing Models**. In: Lane H.C., Yacef K., Mostow J., Pavlik P. (eds) Artificial Intelligence in Education. AIED 2013. Lecture Notes in Computer Science, vol 7926. Springer, Berlin, Heidelberg\n",
        "\n",
        "We can also use machine learning approaches to change these parameters along the way.\n",
        "\n"
      ]
    },
    {
      "metadata": {
        "id": "xnQCVmuHdS-a",
        "colab_type": "code",
        "colab": {}
      },
      "cell_type": "code",
      "source": [
        "P_L0 = 0.5\n",
        "P_T = 0.1\n",
        "P_S = 0.1\n",
        "P_G = 0.1\n",
        "\n",
        "#function definition here\n",
        "\n",
        "def P_L_func ( correct, P_L_previous):\n",
        "  \n",
        "  if correct==1:\n",
        "    P_L_obs = (P_L_previous*(1-P_S))/(P_L_previous*(1-P_S) + (1-P_L_previous)*(1-P_G))\n",
        "  else:\n",
        "    P_L_obs = (P_L_previous*P_S)/(P_L_previous*P_S + (1-P_L_previous)*(1-P_G))\n",
        "  \n",
        "  P_L_current = P_L_obs + (1-P_L_obs)*P_T\n",
        "  \n",
        "  return P_L_current\n",
        "\n",
        "def P_C_func (P_L_previous):\n",
        "  P_C_current = P_L_previous*(1-P_S) + (1-P_L_previous)*P_G\n",
        "  \n",
        "  return P_C_current"
      ],
      "execution_count": 0,
      "outputs": []
    },
    {
      "metadata": {
        "id": "mW6FbHN8kKRR",
        "colab_type": "text"
      },
      "cell_type": "markdown",
      "source": [
        "### FILLING IN CALCULATED RESULTS\n",
        "\n",
        "LOREM IPSUM"
      ]
    },
    {
      "metadata": {
        "id": "NqGSoVdtkRuq",
        "colab_type": "code",
        "outputId": "42e1f240-4b4c-43d7-9a91-7387dc16cbd1",
        "colab": {
          "base_uri": "https://localhost:8080/",
          "height": 340
        }
      },
      "cell_type": "code",
      "source": [
        "for Student, stuInfo in mod1_data.groupby(level=[0]):\n",
        "  rows = len(stuInfo.index)\n",
        "  row_loc = 0\n",
        "  \n",
        "  # set the innitial P\n",
        "  stuInfo.iloc[0,stuInfo.columns.get_loc('P(L)1')] = P_L0\n",
        "  stuInfo.iloc[0,stuInfo.columns.get_loc('P(C)1')] = P_L0\n",
        "  \n",
        "  # now filling in values in a per-column fashion\n",
        "  for index, row in stuInfo.iterrows():\n",
        "    \n",
        "    # the first row was innitialized so we skip it now\n",
        "    if row_loc >0:\n",
        "    \n",
        "      #going over KC_1\t\n",
        "      if stuInfo.iloc[row_loc]['KC_1'] == 0.0:\n",
        "        #if the skill is not tested then P(L) and P(C) are unchanged and will be copied over\n",
        "        stuInfo.iloc[row_loc,stuInfo.columns.get_loc('P(L)1')] = stuInfo.iloc[row_loc-1]['P(L)1']\n",
        "        stuInfo.iloc[row_loc,stuInfo.columns.get_loc('P(C)1')] = stuInfo.iloc[row_loc-1]['P(C)1']\n",
        "      else:\n",
        "        #if the skill is tested, change P(L) and P(C) accordingly\n",
        "        stuInfo.iloc[row_loc,stuInfo.columns.get_loc('P(L)1')] = P_L_func ( stuInfo.iloc[row_loc]['Correct'], stuInfo.iloc[row_loc-1]['P(L)1'])\n",
        "        stuInfo.iloc[row_loc,stuInfo.columns.get_loc('P(C)1')] = P_C_func ( stuInfo.iloc[row_loc-1]['P(L)1'])\n",
        "        \n",
        "    if row_loc < rows: row_loc += 1\n",
        "  print(Student)    \n",
        "mod1_data.to_csv('KC_1.csv', index=True, header=True, float_format='%.4f')\n",
        "files.download('KC_1.csv')"
      ],
      "execution_count": 0,
      "outputs": [
        {
          "output_type": "stream",
          "text": [
            "/usr/local/lib/python2.7/dist-packages/pandas/core/indexing.py:537: SettingWithCopyWarning: \n",
            "A value is trying to be set on a copy of a slice from a DataFrame.\n",
            "Try using .loc[row_indexer,col_indexer] = value instead\n",
            "\n",
            "See the caveats in the documentation: http://pandas.pydata.org/pandas-docs/stable/indexing.html#indexing-view-versus-copy\n",
            "  self.obj[item] = s\n"
          ],
          "name": "stderr"
        },
        {
          "output_type": "stream",
          "text": [
            "stu1\n",
            "stu10\n",
            "stu101\n",
            "stu11\n",
            "stu118\n",
            "stu127\n",
            "stu13\n",
            "stu133\n",
            "stu14\n",
            "stu144\n",
            "stu15\n",
            "stu152\n",
            "stu16\n"
          ],
          "name": "stdout"
        }
      ]
    },
    {
      "metadata": {
        "id": "6xQyXfYeEXzS",
        "colab_type": "code",
        "outputId": "ccd9be25-a2b1-4a0b-e35e-b9b7542e8ac9",
        "colab": {
          "base_uri": "https://localhost:8080/",
          "height": 34
        }
      },
      "cell_type": "code",
      "source": [
        "for Student, stuInfo in mod1_data.groupby(level=[0]):\n",
        "  rows = len(stuInfo.index)\n",
        "  row_loc = 0\n",
        "  \n",
        "  # set the innitial P\n",
        "  stuInfo.iloc[0,stuInfo.columns.get_loc('P(L)27')] = P_L0\n",
        "  stuInfo.iloc[0,stuInfo.columns.get_loc('P(C)27')] = P_L0\n",
        "  \n",
        "  # now filling in values in a per-column fashion\n",
        "  for index, row in stuInfo.iterrows():\n",
        "    \n",
        "    # the first row was innitialized so we skip it now\n",
        "    if row_loc >0:\n",
        "    \n",
        "      #going over KC_27\n",
        "      if stuInfo.iloc[row_loc]['KC_27'] == 0.0:\n",
        "        stuInfo.iloc[row_loc,stuInfo.columns.get_loc('P(L)27')] = stuInfo.iloc[row_loc-1]['P(L)27']\n",
        "        stuInfo.iloc[row_loc,stuInfo.columns.get_loc('P(C)27')] = stuInfo.iloc[row_loc-1]['P(C)27']\n",
        "      else:\n",
        "        stuInfo.iloc[row_loc,stuInfo.columns.get_loc('P(L)27')] = P_L_func ( stuInfo.iloc[row_loc]['Correct'], stuInfo.iloc[row_loc-1]['P(L)27'])\n",
        "        stuInfo.iloc[row_loc,stuInfo.columns.get_loc('P(C)27')] = P_C_func ( stuInfo.iloc[row_loc-1]['P(L)27'])      \n",
        "        \n",
        "    if row_loc < rows: row_loc += 1\n",
        "      \n",
        "mod1_data.to_csv('KC_27.csv', index=True, header=True, float_format='%.4f')\n",
        "files.download('KC_27.csv')"
      ],
      "execution_count": 7,
      "outputs": [
        {
          "output_type": "stream",
          "text": [
            "Data saved to csv file!\n"
          ],
          "name": "stdout"
        }
      ]
    },
    {
      "metadata": {
        "id": "RCLv1BAWEatE",
        "colab_type": "code",
        "colab": {}
      },
      "cell_type": "code",
      "source": [
        "for Student, stuInfo in mod1_data.groupby(level=[0]):\n",
        "  rows = len(stuInfo.index)\n",
        "  row_loc = 0\n",
        "\n",
        "  stuInfo.iloc[0,stuInfo.columns.get_loc('P(L)24')] = P_L0\n",
        "  stuInfo.iloc[0,stuInfo.columns.get_loc('P(C)24')] = P_L0\n",
        " \n",
        "  # now filling in values in a per-column fashion\n",
        "  for index, row in stuInfo.iterrows():\n",
        "    \n",
        "    # the first row was innitialized so we skip it now\n",
        "    if row_loc >0:\n",
        "      #going over KC_24\t\n",
        "      if stuInfo.iloc[row_loc]['KC_24'] == 0.0:\n",
        "        stuInfo.iloc[row_loc,stuInfo.columns.get_loc('P(L)24')] = stuInfo.iloc[row_loc-1]['P(L)24']\n",
        "        stuInfo.iloc[row_loc,stuInfo.columns.get_loc('P(C)24')] = stuInfo.iloc[row_loc-1]['P(C)24']\n",
        "      else:\n",
        "        stuInfo.iloc[row_loc,stuInfo.columns.get_loc('P(L)24')] = P_L_func ( stuInfo.iloc[row_loc]['Correct'], stuInfo.iloc[row_loc-1]['P(L)24'])\n",
        "        stuInfo.iloc[row_loc,stuInfo.columns.get_loc('P(C)24')] = P_C_func ( stuInfo.iloc[row_loc-1]['P(L)24'])\n",
        "    if row_loc < rows: row_loc += 1\n",
        "      \n",
        "mod1_data.to_csv('KC_24.csv', index=False)\n",
        "print ('Data saved to csv file!')"
      ],
      "execution_count": 0,
      "outputs": []
    },
    {
      "metadata": {
        "id": "DyA-2wPoEcYa",
        "colab_type": "code",
        "colab": {}
      },
      "cell_type": "code",
      "source": [
        "for Student, stuInfo in mod1_data.groupby(level=[0]):\n",
        "  rows = len(stuInfo.index)\n",
        "  row_loc = 0\n",
        "  \n",
        "  # set the innitial P\n",
        "  stuInfo.iloc[0,stuInfo.columns.get_loc('P(L)14')] = P_L0\n",
        "  stuInfo.iloc[0,stuInfo.columns.get_loc('P(C)14')] = P_L0\n",
        "  \n",
        "  # now filling in values in a per-column fashion\n",
        "  for index, row in stuInfo.iterrows():\n",
        "    \n",
        "    # the first row was innitialized so we skip it now\n",
        "    if row_loc >0:\n",
        "      #going over KC_14\t\n",
        "      if stuInfo.iloc[row_loc]['KC_14'] == 0.0:\n",
        "        #if the skill is not tested then P(L) and P(C) are unchanged and will be copied over\n",
        "        stuInfo.iloc[row_loc,stuInfo.columns.get_loc('P(L)14')] = stuInfo.iloc[row_loc-1]['P(L)14']\n",
        "        stuInfo.iloc[row_loc,stuInfo.columns.get_loc('P(C)14')] = stuInfo.iloc[row_loc-1]['P(C)14']\n",
        "      else:\n",
        "        #if the skill is tested, change P(L) and P(C) accordingly\n",
        "        stuInfo.iloc[row_loc,stuInfo.columns.get_loc('P(L)14')] = P_L_func ( stuInfo.iloc[row_loc]['Correct'], stuInfo.iloc[row_loc-1]['P(L)14'])\n",
        "        stuInfo.iloc[row_loc,stuInfo.columns.get_loc('P(C)14')] = P_C_func ( stuInfo.iloc[row_loc-1]['P(L)14'])\n",
        "\n",
        "    if row_loc < rows: row_loc += 1\n",
        "      \n",
        "mod1_data.to_csv('KC_14.csv', index=False)\n",
        "print ('Data saved to csv file!')"
      ],
      "execution_count": 0,
      "outputs": []
    },
    {
      "metadata": {
        "id": "aK-iEeQwEdOK",
        "colab_type": "code",
        "colab": {}
      },
      "cell_type": "code",
      "source": [
        "for Student, stuInfo in mod1_data.groupby(level=[0]):\n",
        "  rows = len(stuInfo.index)\n",
        "  row_loc = 0\n",
        "  \n",
        "  # set the innitial P\n",
        "  stuInfo.iloc[0,stuInfo.columns.get_loc('P(L)22')] = P_L0\n",
        "  stuInfo.iloc[0,stuInfo.columns.get_loc('P(C)22')] = P_L0\n",
        "\n",
        "  # now filling in values in a per-column fashion\n",
        "  for index, row in stuInfo.iterrows():\n",
        "    \n",
        "    # the first row was innitialized so we skip it now\n",
        "    if row_loc >0:  \n",
        "      #going over KC_22\t\n",
        "      if stuInfo.iloc[row_loc]['KC_22'] == 0.0:\n",
        "        stuInfo.iloc[row_loc,stuInfo.columns.get_loc('P(L)22')] = stuInfo.iloc[row_loc-1]['P(L)22']\n",
        "        stuInfo.iloc[row_loc,stuInfo.columns.get_loc('P(C)22')] = stuInfo.iloc[row_loc-1]['P(C)22']\n",
        "      else:\n",
        "        stuInfo.iloc[row_loc,stuInfo.columns.get_loc('P(L)22')] = P_L_func ( stuInfo.iloc[row_loc]['Correct'], stuInfo.iloc[row_loc-1]['P(L)22'])\n",
        "        stuInfo.iloc[row_loc,stuInfo.columns.get_loc('P(C)22')] = P_C_func ( stuInfo.iloc[row_loc-1]['P(L)22']) \n",
        "    if row_loc < rows: row_loc += 1\n",
        "      \n",
        "mod1_data.to_csv('KC_22.csv', index=False)\n",
        "print ('Data saved to csv file!')"
      ],
      "execution_count": 0,
      "outputs": []
    },
    {
      "metadata": {
        "id": "ri4dc5KnEdrq",
        "colab_type": "code",
        "colab": {}
      },
      "cell_type": "code",
      "source": [
        "for Student, stuInfo in mod1_data.groupby(level=[0]):\n",
        "  rows = len(stuInfo.index)\n",
        "  row_loc = 0\n",
        "  \n",
        "  # set the innitial P\n",
        "  stuInfo.iloc[0,stuInfo.columns.get_loc('P(L)20')] = P_L0\n",
        "  stuInfo.iloc[0,stuInfo.columns.get_loc('P(C)20')] = P_L0\n",
        "\n",
        "  # now filling in values in a per-column fashion\n",
        "  for index, row in stuInfo.iterrows():\n",
        "    \n",
        "    # the first row was innitialized so we skip it now\n",
        "    if row_loc >0:\n",
        "      #going over KC_20\t\n",
        "      if stuInfo.iloc[row_loc]['KC_20'] == 0.0:\n",
        "        stuInfo.iloc[row_loc,stuInfo.columns.get_loc('P(L)20')] = stuInfo.iloc[row_loc-1]['P(L)20']\n",
        "        stuInfo.iloc[row_loc,stuInfo.columns.get_loc('P(C)20')] = stuInfo.iloc[row_loc-1]['P(C)20']\n",
        "      else:\n",
        "        stuInfo.iloc[row_loc,stuInfo.columns.get_loc('P(L)20')] = P_L_func ( stuInfo.iloc[row_loc]['Correct'], stuInfo.iloc[row_loc-1]['P(L)20'])\n",
        "        stuInfo.iloc[row_loc,stuInfo.columns.get_loc('P(C)20')] = P_C_func ( stuInfo.iloc[row_loc-1]['P(L)20'])       \n",
        "    if row_loc < rows: row_loc += 1\n",
        "      \n",
        "mod1_data.to_csv('KC_20.csv', index=False)\n",
        "print ('Data saved to csv file!')"
      ],
      "execution_count": 0,
      "outputs": []
    },
    {
      "metadata": {
        "id": "TTbHFiSeEeLE",
        "colab_type": "code",
        "colab": {}
      },
      "cell_type": "code",
      "source": [
        "for Student, stuInfo in mod1_data.groupby(level=[0]):\n",
        "  rows = len(stuInfo.index)\n",
        "  row_loc = 0\n",
        "  \n",
        "  # set the innitial P\n",
        "  stuInfo.iloc[0,stuInfo.columns.get_loc('P(L)21')] = P_L0\n",
        "  stuInfo.iloc[0,stuInfo.columns.get_loc('P(C)21')] = P_L0\n",
        "  \n",
        "  # now filling in values in a per-column fashion\n",
        "  for index, row in stuInfo.iterrows():\n",
        "      #going over KC_21\n",
        "      if stuInfo.iloc[row_loc]['KC_21'] == 0.0:\n",
        "        #if the skill is not tested then P(L) and P(C) are unchanged and will be copied over\n",
        "        stuInfo.iloc[row_loc,stuInfo.columns.get_loc('P(L)21')] = stuInfo.iloc[row_loc-1]['P(L)21']\n",
        "        stuInfo.iloc[row_loc,stuInfo.columns.get_loc('P(C)21')] = stuInfo.iloc[row_loc-1]['P(C)21']\n",
        "      else:\n",
        "        #if the skill is tested, change P(L) and P(C) accordingly\n",
        "        stuInfo.iloc[row_loc,stuInfo.columns.get_loc('P(L)21')] = P_L_func ( stuInfo.iloc[row_loc]['Correct'], stuInfo.iloc[row_loc-1]['P(L)21'])\n",
        "        stuInfo.iloc[row_loc,stuInfo.columns.get_loc('P(C)21')] = P_C_func ( stuInfo.iloc[row_loc-1]['P(L)21'])\n",
        "        \n",
        "    if row_loc < rows: row_loc += 1\n",
        "      \n",
        "mod1_data.to_csv('results.csv', index=False)\n",
        "print ('Data saved to csv file!')"
      ],
      "execution_count": 0,
      "outputs": []
    },
    {
      "metadata": {
        "id": "rJulYAzWZqPf",
        "colab_type": "code",
        "colab": {}
      },
      "cell_type": "code",
      "source": [
        "# export data frame to local .csv file\n",
        "files.download('results.csv')"
      ],
      "execution_count": 0,
      "outputs": []
    }
  ]
}